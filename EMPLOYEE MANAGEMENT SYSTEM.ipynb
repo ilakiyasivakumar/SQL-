{
 "cells": [
  {
   "cell_type": "code",
   "execution_count": 1,
   "id": "484b9765",
   "metadata": {},
   "outputs": [
    {
     "name": "stdout",
     "output_type": "stream",
     "text": [
      "Collecting mysqlclient\n",
      "  Downloading mysqlclient-2.2.0-cp310-cp310-win_amd64.whl (199 kB)\n",
      "     ------------------------------------ 199.9/199.9 kB 866.3 kB/s eta 0:00:00\n",
      "Installing collected packages: mysqlclient\n",
      "Successfully installed mysqlclient-2.2.0\n"
     ]
    }
   ],
   "source": [
    "!pip install mysqlclient"
   ]
  },
  {
   "cell_type": "code",
   "execution_count": 2,
   "id": "5ccffae8",
   "metadata": {},
   "outputs": [
    {
     "name": "stdout",
     "output_type": "stream",
     "text": [
      "Collecting mysql-connector-python\n",
      "  Downloading mysql_connector_python-8.0.33-cp310-cp310-win_amd64.whl (9.6 MB)\n",
      "     ---------------------------------------- 9.6/9.6 MB 3.1 MB/s eta 0:00:00\n",
      "Collecting protobuf<=3.20.3,>=3.11.0\n",
      "  Downloading protobuf-3.20.3-cp310-cp310-win_amd64.whl (904 kB)\n",
      "     -------------------------------------- 904.0/904.0 kB 3.8 MB/s eta 0:00:00\n",
      "Installing collected packages: protobuf, mysql-connector-python\n",
      "  Attempting uninstall: protobuf\n",
      "    Found existing installation: protobuf 4.22.3\n",
      "    Uninstalling protobuf-4.22.3:\n",
      "      Successfully uninstalled protobuf-4.22.3\n",
      "Successfully installed mysql-connector-python-8.0.33 protobuf-3.20.3\n"
     ]
    }
   ],
   "source": [
    "!pip install mysql-connector-python"
   ]
  },
  {
   "cell_type": "code",
   "execution_count": 3,
   "id": "36769ffb",
   "metadata": {},
   "outputs": [
    {
     "name": "stdout",
     "output_type": "stream",
     "text": [
      "Collecting pymysql\n",
      "  Downloading PyMySQL-1.1.0-py3-none-any.whl (44 kB)\n",
      "     -------------------------------------- 44.8/44.8 kB 316.8 kB/s eta 0:00:00\n",
      "Installing collected packages: pymysql\n",
      "Successfully installed pymysql-1.1.0\n"
     ]
    }
   ],
   "source": [
    "!pip install pymysql"
   ]
  },
  {
   "cell_type": "code",
   "execution_count": 1,
   "id": "debc64a4",
   "metadata": {},
   "outputs": [
    {
     "name": "stdout",
     "output_type": "stream",
     "text": [
      "Requirement already satisfied: mysql-connector-python in c:\\users\\ilaki\\anaconda3\\lib\\site-packages (8.0.33)\n",
      "Requirement already satisfied: protobuf<=3.20.3,>=3.11.0 in c:\\users\\ilaki\\anaconda3\\lib\\site-packages (from mysql-connector-python) (3.20.3)\n"
     ]
    }
   ],
   "source": [
    "!pip install mysql-connector-python"
   ]
  },
  {
   "cell_type": "code",
   "execution_count": 1,
   "id": "602c283b",
   "metadata": {},
   "outputs": [],
   "source": [
    "import mysql.connector\n"
   ]
  },
  {
   "cell_type": "code",
   "execution_count": 2,
   "id": "ef980ce0",
   "metadata": {},
   "outputs": [
    {
     "name": "stdout",
     "output_type": "stream",
     "text": [
      "Connection established.\n"
     ]
    }
   ],
   "source": [
    "import mysql.connector\n",
    "\n",
    "try:\n",
    "    con = mysql.connector.connect(\n",
    "        host='localhost',\n",
    "        user='root',\n",
    "        password='ilakiya@2306'\n",
    "    )\n",
    "    \n",
    "    if con.is_connected():\n",
    "        print(\"Connection established.\")\n",
    "    \n",
    "    # Perform further operations with the connection\n",
    "    \n",
    "except mysql.connector.Error as error:\n",
    "    print(\"Error while connecting to MySQL:\", error)\n"
   ]
  },
  {
   "cell_type": "code",
   "execution_count": 3,
   "id": "5a875b6a",
   "metadata": {},
   "outputs": [],
   "source": [
    "import mysql.connector\n",
    "\n",
    "# Establish a connection to the MySQL database\n",
    "con = mysql.connector.connect(\n",
    "    host='localhost',\n",
    "    user='root',\n",
    "    password='ilakiya@2306',\n",
    ")\n",
    "# Create a cursor object\n",
    "cursor = con.cursor(buffered=True)\n"
   ]
  },
  {
   "cell_type": "code",
   "execution_count": 5,
   "id": "8d520f62",
   "metadata": {},
   "outputs": [],
   "source": [
    "\n",
    "# creating database\n",
    "cursor.execute(\"CREATE DATABASE employment\")"
   ]
  },
  {
   "cell_type": "code",
   "execution_count": 6,
   "id": "d445d3c7",
   "metadata": {},
   "outputs": [],
   "source": [
    "import mysql.connector\n",
    "#making Connection\n",
    "con = mysql.connector.connect (\n",
    "host = \" localhost \" , user = \" root \" , password = \"ilakiya@2306\" , database = \" employment \" )\n",
    "mycursor= con.cursor()\n",
    "mycursor.execute(\"CREATE TABLE empdata ( Id INT(11) PRIMARY KEY , Name VARCHAR(1800), Email_Id TEXT(1800),Phone_no BIGINT( 11 ), Address TEXT(1000), Post TEXT(1000), Salary BIGINT(20))\")"
   ]
  },
  {
   "cell_type": "code",
   "execution_count": 7,
   "id": "2a6e6b04",
   "metadata": {},
   "outputs": [],
   "source": [
    "import re\n",
    "# make a regular expression\n",
    "# for validating an Email\n",
    "regex = r'\\b[A-Za-z0-9._%+-]+@[A-Za-z0-9.-]+\\.[A-Z|a-z]{2,}\\b'\n",
    "# for validating an Phone Number\n",
    "Pattern = re.compile(\"(0|91)?[7-9][0-9]{9}\")\n"
   ]
  },
  {
   "cell_type": "code",
   "execution_count": 8,
   "id": "31c95ac8",
   "metadata": {},
   "outputs": [],
   "source": [
    "# Function to Add_Employee\n",
    "def Add_Employ():\n",
    "    print(\"{:>60}\".format(\"-->>Add Employee Record<<--\"))\n",
    "    emp_Id = input(\"Enter Employee Id: \")\n",
    "    # checking If Employee Id is Exit Or Not\n",
    "    if (check_emp_id(Id) == True):\n",
    "        print(\"Employee ID Already Exists\\nTry Again..\")\n",
    "        press = input(\"Press Any Key To Continue..\")\n",
    "        Add_Employ()\n",
    "    Name = input(\"Enter Employee Name: \")\n",
    "    # checking If Employee Name is Exit Or Not\n",
    "    if (check_emp_name(Name) == True):\n",
    "        print(\"Employee Name Already Exists\\nTry Again..\")\n",
    "        press = input(\"Press Any Key To Continue..\")\n",
    "        Add_Employ\n",
    "    emp_Email = input(\"Enter Employee Email ID: \")\n",
    "    if(re.fullmatch(regex, emp_Email)):\n",
    "        print(\"Valid Email\")\n",
    "    else:\n",
    "        print(\"Invalid Email\")\n",
    "        press = input(\"Press Any Key To Continue..\")\n",
    "        Add_Employ()\n",
    "    emp_Phone = input(\"Enter Employee Phone No.: \")\n",
    "    if(Pattern.match(emp_Phone)):\n",
    "        print(\"Valid Phone Number\")\n",
    "    else:\n",
    "        print(\"Invalid Phone Number\")\n",
    "        press = input(\"Press Any Key To Continue..\")\n",
    "        Add_Employ()\n",
    "    emp_Address = input(\"Enter Employee Address: \")\n",
    "    emp_Post = input(\"Enter Employee Post: \")\n",
    "    emp_Salary = input(\"Enter Employee Salary: \")\n",
    "    data = (emp_Id, emp_Name, emp_Email, emp_Phone, emp_Address, emp_Post, emp_Salary)\n",
    "    # Instering Employee Details in\n",
    "    # the Employee (empdata) Table\n",
    "    sql = 'insert into empdata values(%s,%s,%s,%s,%s,%s,%s)'\n",
    "    c = con.cursor()\n",
    "\n",
    "    # Executing the sql Query\n",
    "    c.execute(sql, data)\n",
    "\n",
    "    # Commit() method to make changes in the table\n",
    "    con.commit()\n",
    "    print(\"Successfully Added Employee Record\")\n",
    "    press = input(\"Press Any Key To Continue..\")\n",
    "    menu()"
   ]
  },
  {
   "cell_type": "code",
   "execution_count": 9,
   "id": "b2214304",
   "metadata": {},
   "outputs": [],
   "source": [
    "# Function To Check if Employee With\n",
    "# given Name Exist or not\n",
    "def check_employee_name(emp_name):\n",
    "    \n",
    "    # query to select all Rows from\n",
    "    # employee(empdata) table\n",
    "    sql = 'select * from employees where Name=%s'"
   ]
  },
  {
   "cell_type": "code",
   "execution_count": 11,
   "id": "e7a91200",
   "metadata": {},
   "outputs": [],
   "source": [
    "# making cursor buffered to make\n",
    "# rowcount method work properly\n",
    "c = con.cursor(buffered=True)\n",
    "# Example data\n",
    "employee_name = \"John Smith\"\n",
    "data = (employee_name,)"
   ]
  },
  {
   "cell_type": "code",
   "execution_count": 12,
   "id": "46ea6a2e",
   "metadata": {},
   "outputs": [],
   "source": [
    "# Function To Check if Employee With\n",
    "# given Name Exist or not\n",
    "def check_employee_name(emp_name):\n",
    "    # query to select all Rows from\n",
    "    # employee(empdata) table\n",
    "    sql = 'select * from employees where Name=%s'\n",
    "\n",
    "    # making cursor buffered to make\n",
    "    # rowcount method work properly\n",
    "    c = con.cursor(buffered=True)\n",
    "    data = (employee_name,)\n",
    "\n",
    "    # Execute the sql query\n",
    "    c.execute(sql, data)\n",
    "\n",
    "    # rowcount method to find number\n",
    "    # of rowa with given values\n",
    "    r = c.rowcount\n",
    "    if r == 1:\n",
    "        return True\n",
    "    else:\n",
    "        return False\n"
   ]
  },
  {
   "cell_type": "code",
   "execution_count": 13,
   "id": "cc4c5d33",
   "metadata": {},
   "outputs": [],
   "source": [
    "# Function To Check if Employee With\n",
    "# given Id Exist or not\n",
    "def check_employee(emp_id):\n",
    "    # query to select all Rows from\n",
    "    # employee(empdata) table\n",
    "    \n",
    "    sql = 'select * from empdata where Id=%s'\n",
    "\n",
    "    # making cursor buffered to make\n",
    "    # rowcount method work properly\n",
    "    c = con.cursor(buffered=True)\n",
    "    data = (emp_id,)\n",
    "\n",
    "    # Execute the sql query\n",
    "    c.execute(sql, data)\n",
    "\n",
    "    # rowcount method to find number\n",
    "    # of rowa with given values\n",
    "    r = c.rowcount\n",
    "    if r == 1:\n",
    "        return True\n",
    "    else:\n",
    "        return False"
   ]
  },
  {
   "cell_type": "markdown",
   "id": "aedd9d34",
   "metadata": {},
   "source": [
    "# Adding Display Employee function to python employee management system"
   ]
  },
  {
   "cell_type": "code",
   "execution_count": 14,
   "id": "1b3b4ee9",
   "metadata": {},
   "outputs": [],
   "source": [
    "def Display_Employ():\n",
    "    print(\"{:>60}\".format(\"-->> Display Employee Record <<--\"))\n",
    "    # query to select all rows from Employee (empdata) Table\n",
    "    sql = 'select * from empdata'\n",
    "    c = con.cursor()\n",
    "\n",
    "    # Executing the sql query\n",
    "    c.execute(sql)\n",
    "\n",
    "    # Fetching all details of all the Employees\n",
    "    r = c.fetchall()\n",
    "    for i in r:\n",
    "        print(\"Emp_Id: \", i[0])\n",
    "        print(\"Emp_Name: \", i[1])\n",
    "        print(\"Emp_Email Id: \", i[2])\n",
    "        print(\"Emp_Phone No.: \", i[3])\n",
    "        print(\"Emp_Address: \", i[4])\n",
    "        print(\"Emp_Post: \", i[5])\n",
    "        print(\"Emp_e Salary: \", i[6])\n",
    "        print(\"\\n\")\n",
    "    press = input(\"Press Any key To Continue..\")\n",
    "    menu()"
   ]
  },
  {
   "cell_type": "markdown",
   "id": "3c69ee29",
   "metadata": {},
   "source": [
    "# Add Update Employee function in employee management system python"
   ]
  },
  {
   "cell_type": "code",
   "execution_count": 15,
   "id": "b6750d9b",
   "metadata": {},
   "outputs": [],
   "source": [
    "def Update_Employ():\n",
    "    print(\"{:>60}\".format(\"-->> Update Employee Record <<--\\n\"))\n",
    "    Id = input(\"Enter Employee Id: \")\n",
    "    # checking If Employee Id is Exit Or Not\n",
    "    if(check_employee(Id) == False):\n",
    "        print(\"Employee Record Not exists\\nTry Again\")\n",
    "        press = input(\"Press Any Key To Continue..\")\n",
    "        menu()\n",
    "    else:\n",
    "        Email_Id = input(\"Enter Employee Email ID: \")\n",
    "        if(re.fullmatch(regex, Email_Id)):\n",
    "            print(\"Valid Email\")\n",
    "        else:\n",
    "            print(\"Invalid Email\")\n",
    "            press = input(\"Press Any Key To Continue..\")\n",
    "            Update_Employ()\n",
    "        Phone_no = input(\"Enter Employee Phone No.: \")\n",
    "        if(Pattern.match(Phone_no)):\n",
    "            print(\"Valid Phone Number\")\n",
    "        else:\n",
    "            print(\"Invalid Phone Number\")\n",
    "            press = input(\"Press Any Key To Continue..\")\n",
    "            Update_Employ()\n",
    "        Address = input(\"Enter Employee Address: \")\n",
    "        # Updating Employee details in empdata Table\n",
    "        sql = 'UPDATE empdata set Email_Id = %s, Phone_no = %s, Address = %s where Id = %s'\n",
    "        data = (Email_Id, Phone_no, Address, Id)\n",
    "        c = con.cursor()\n",
    "\n",
    "        # Executing the sql query\n",
    "        c.execute(sql, data)\n",
    "\n",
    "        # commit() method to make changes in the table\n",
    "        con.commit()\n",
    "        print(\"Updated Employee Record\")\n",
    "        press = input(\"Press Any Key To Continue..\")\n",
    "        menu()"
   ]
  },
  {
   "cell_type": "markdown",
   "id": "fea476fc",
   "metadata": {},
   "source": [
    "# To Promote Employees in python project on employee management system"
   ]
  },
  {
   "cell_type": "code",
   "execution_count": 16,
   "id": "6cb348e9",
   "metadata": {},
   "outputs": [],
   "source": [
    "# Function to Promote_Employ\n",
    "def Promote_Employ():\n",
    "    print(\"{:>60}\".format(\"-->> Promote Employee Record <<--\\n\"))\n",
    "    Id = input(\"Enter Employee Id: \")\n",
    "    # checking If Employee Id is Exit Or Not\n",
    "    if(check_employee(Id) == False):\n",
    "        print(\"Employee Record Not exists\\nTry Again\")\n",
    "        press = input(\"Press Any Key To Continue..\")\n",
    "        menu()\n",
    "    else:\n",
    "        Amount  = int(input(\"Enter Increase Salary: \"))\n",
    "        #query to fetch salary of Employee with given data\n",
    "        sql = 'select Salary from empdata where Id=%s'\n",
    "        data = (Id,)\n",
    "        c = con.cursor()\n",
    "        \n",
    "        #executing the sql query\n",
    "        c.execute(sql, data)\n",
    "        \n",
    "        #fetching salary of Employee with given Id\n",
    "        r = c.fetchone()\n",
    "        t = r[0]+Amount\n",
    "        \n",
    "        #query to update salary of Employee with given id\n",
    "        sql = 'update empdata set Salary = %s where Id = %s'\n",
    "        d = (t, Id)\n",
    "\n",
    "        #executing the sql query\n",
    "        c.execute(sql, d)\n",
    "\n",
    "        #commit() method to make changes in the table \n",
    "        con.commit()\n",
    "        print(\"Employee Promoted\")\n",
    "        press = input(\"Press Any key To Continue..\")\n",
    "        menu()"
   ]
  },
  {
   "cell_type": "markdown",
   "id": "af343952",
   "metadata": {},
   "source": [
    "# Remove Employee from employee management system in python with database"
   ]
  },
  {
   "cell_type": "code",
   "execution_count": 17,
   "id": "267ed0ed",
   "metadata": {},
   "outputs": [],
   "source": [
    "# Function to Remove_Employee\n",
    "def Remove_Employ():\n",
    "    print(\"{:>60}\".format(\"-->> Remove Employee Record <<--\\n\"))\n",
    "    Id = input(\"Enter Employee Id: \")\n",
    "    # checking If Employee Id is Exit Or Not\n",
    "    if(check_employee(Id) == False):\n",
    "        print(\"Employee Record Not exists\\nTry Again\")\n",
    "        press = input(\"Press Any Key To Continue..\")\n",
    "        menu()\n",
    "    else:\n",
    "        #query to delete Employee from empdata table\n",
    "        sql = 'delete from empdata where Id = %s'\n",
    "        data = (Id,)\n",
    "        c = con.cursor()\n",
    "\n",
    "        #executing the sql query\n",
    "        c.execute(sql, data)\n",
    "\n",
    "        #commit() method to make changes in the empdata table\n",
    "        con.commit()\n",
    "        print(\"Employee Removed\")\n",
    "        press = input(\"Press Any key To Continue..\")\n",
    "        menu()"
   ]
  },
  {
   "cell_type": "markdown",
   "id": "91455d95",
   "metadata": {},
   "source": [
    "# Search for Employee"
   ]
  },
  {
   "cell_type": "code",
   "execution_count": 18,
   "id": "7d33e3d0",
   "metadata": {},
   "outputs": [],
   "source": [
    "# Function to Search_Employ\n",
    "def Search_Employ():\n",
    "    print(\"{:>60}\".format(\"-->> Search Employee Record <<--\\n\"))\n",
    "    Id = input(\"Enter Employee Id: \")\n",
    "    # checking If Employee Id is Exit Or Not\n",
    "    if(check_employee(Id) == False):\n",
    "        print(\"Employee Record Not exists\\nTry Again\")\n",
    "        press = input(\"Press Any Key To Continue..\")\n",
    "        menu()\n",
    "    else:\n",
    "        #query to search Employee from empdata table\n",
    "        sql = 'select * from empdata where Id = %s'\n",
    "        data = (Id,)\n",
    "        c = con.cursor()\n",
    "        \n",
    "        #executing the sql query\n",
    "        c.execute(sql, data)\n",
    "\n",
    "        #fetching all details of all the employee\n",
    "        r = c.fetchall()\n",
    "        for i in r:\n",
    "            print(\"Employee Id: \", i[0])\n",
    "            print(\"Employee Name: \", i[1])\n",
    "            print(\"Employee Email Id: \", i[2])\n",
    "            print(\"Employee Phone No.: \", i[3])\n",
    "            print(\"Employee Address: \", i[4])\n",
    "            print(\"Employee Post: \", i[5])\n",
    "            print(\"Employee Salary: \", i[6])\n",
    "            print(\"\\n\")\n",
    "        press = input(\"Press Any key To Continue..\")\n",
    "        menu()"
   ]
  },
  {
   "cell_type": "code",
   "execution_count": 19,
   "id": "f48b56e1",
   "metadata": {},
   "outputs": [],
   "source": [
    "def check_emp_(employee_id):\n",
    "    # SQL query to check if employee with given ID exists\n",
    "    sql = \"SELECT * FROM employees WHERE emp_id = %s\"\n",
    "    data = (employee_id,)\n",
    "\n",
    "    # Execute the SQL query\n",
    "    cursor.execute(sql, data)\n",
    "\n",
    "    # Check if any rows are returned\n",
    "    if cursor.rowcount > 0:\n",
    "        return True  # Employee exists\n",
    "    else:\n",
    "        return False  # Employee does not exist\n"
   ]
  },
  {
   "cell_type": "code",
   "execution_count": 20,
   "id": "b1a6a228",
   "metadata": {},
   "outputs": [],
   "source": [
    "import os\n",
    "\n",
    "# Menu function to display menu\n",
    "def menu():\n",
    "    os.system(\"cls\")\n",
    "    print(\"{:>60}\".format(\"************************************\"))\n",
    "    print(\"{:>60}\".format(\"-->> Employee Management System <<--\"))\n",
    "    print(\"{:>60}\".format(\"************************************\"))\n",
    "    print(\"1. Add Employee\")\n",
    "    print(\"2. Display Employee Record\")\n",
    "    print(\"3. Update Employee Record\")\n",
    "    print(\"4. Promote Employee Record\")\n",
    "    print(\"5. Remove Employee Record\")\n",
    "    print(\"6. Search Employee Record\")\n",
    "    print(\"7. Exit\\n\")\n",
    "    print(\"{:>60}\".format(\"-->> Choice Options: [1/2/3/4/5/6/7] <<--\"))\n",
    "\n",
    "    ch = int(input(\"Enter your Choice: \"))\n",
    "    if ch == 1:\n",
    "        os.system(\"cls\")\n",
    "        Add_Employ()\n",
    "    elif ch == 2:\n",
    "        os.system(\"cls\")\n",
    "        Display_Employ()\n",
    "    elif ch == 3:\n",
    "        os.system(\"cls\")\n",
    "        Update_Employ()\n",
    "    elif ch == 4:\n",
    "        os.system(\"cls\")\n",
    "        Promote_Employ()\n",
    "    elif ch == 5:\n",
    "        os.system(\"cls\")\n",
    "        Remove_Employ()\n",
    "    elif ch == 6:\n",
    "        os.system(\"cls\")\n",
    "        Search_Employ()\n",
    "    elif ch == 7:\n",
    "        os.system(\"cls\")\n",
    "        print(\"{:>60}7\".format(\"Have A NIce Day :)\"))\n",
    "        exit(0)\n",
    "    else:\n",
    "        print(\"Invalid Choice!\")\n",
    "        press = input(\"Press Any key To Continue..\")\n",
    "        menu()\n",
    "\n",
    "\n"
   ]
  },
  {
   "cell_type": "code",
   "execution_count": 21,
   "id": "32ef89c3",
   "metadata": {},
   "outputs": [
    {
     "name": "stdout",
     "output_type": "stream",
     "text": [
      "                        ************************************\n",
      "                        -->> Employee Management System <<--\n",
      "                        ************************************\n",
      "1. Add Employee\n",
      "2. Display Employee Record\n",
      "3. Update Employee Record\n",
      "4. Promote Employee Record\n",
      "5. Remove Employee Record\n",
      "6. Search Employee Record\n",
      "7. Exit\n",
      "\n",
      "                   -->> Choice Options: [1/2/3/4/5/6/7] <<--\n",
      "Enter your Choice: 2\n",
      "                           -->> Display Employee Record <<--\n",
      "Press Any key To Continue..\n",
      "                        ************************************\n",
      "                        -->> Employee Management System <<--\n",
      "                        ************************************\n",
      "1. Add Employee\n",
      "2. Display Employee Record\n",
      "3. Update Employee Record\n",
      "4. Promote Employee Record\n",
      "5. Remove Employee Record\n",
      "6. Search Employee Record\n",
      "7. Exit\n",
      "\n",
      "                   -->> Choice Options: [1/2/3/4/5/6/7] <<--\n",
      "Enter your Choice: 3\n",
      "                           -->> Update Employee Record <<--\n",
      "\n",
      "Enter Employee Id: 1923\n",
      "Employee Record Not exists\n",
      "Try Again\n",
      "Press Any Key To Continue..\n",
      "                        ************************************\n",
      "                        -->> Employee Management System <<--\n",
      "                        ************************************\n",
      "1. Add Employee\n",
      "2. Display Employee Record\n",
      "3. Update Employee Record\n",
      "4. Promote Employee Record\n",
      "5. Remove Employee Record\n",
      "6. Search Employee Record\n",
      "7. Exit\n",
      "\n",
      "                   -->> Choice Options: [1/2/3/4/5/6/7] <<--\n",
      "Enter your Choice: 7\n",
      "                                          Have A NIce Day :)7\n"
     ]
    }
   ],
   "source": [
    "\n",
    "# Calling menu function\n",
    "menu()"
   ]
  },
  {
   "cell_type": "code",
   "execution_count": 81,
   "id": "45516d76",
   "metadata": {},
   "outputs": [
    {
     "name": "stdout",
     "output_type": "stream",
     "text": [
      "(1, 123456, 'John Doe', 'john.doe@example.com', '1234567890', '123 Main St, City, Country', 'Manager', Decimal('5000.00'))\n",
      "(2, 987654, 'Jane Smith', 'jane.smith@example.com', '9876543210', '456 Elm St, City, Country', 'Assistant', Decimal('3000.00'))\n",
      "(3, 567890, 'Mike Johnson', 'mike.johnson@example.com', '5678901234', '789 Oak St, City, Country', 'Supervisor', Decimal('4000.00'))\n"
     ]
    }
   ],
   "source": [
    "import mysql.connector\n",
    "from mysql.connector import Error\n",
    "\n",
    "connection = None\n",
    "\n",
    "try:\n",
    "    # Establish a connection to the MySQL database\n",
    "    connection = mysql.connector.connect(\n",
    "        host=\"localhost\",\n",
    "        user=\"root\",\n",
    "        password=\"ilakiya@2306\",\n",
    "        database=\"employment\"\n",
    "    )\n",
    "\n",
    "    # Create a cursor\n",
    "    cursor = connection.cursor()\n",
    "\n",
    "    # Execute a query\n",
    "    query = \"SELECT * From employees\"\n",
    "    cursor.execute(query)\n",
    "\n",
    "    # Fetch the result\n",
    "    result = cursor.fetchall()\n",
    "\n",
    "    # Process the result or perform any desired operations\n",
    "    for row in result:\n",
    "        # Access the row data\n",
    "        print(row)\n",
    "\n",
    "except mysql.connector.Error as error:\n",
    "    # Handle the MySQL errors here\n",
    "    print(\"An error occurred:\", error)\n",
    "\n",
    "finally:\n",
    "    # Close the connection and cursor if they are defined\n",
    "    if cursor:\n",
    "        cursor.close()\n",
    "    if connection and connection.is_connected():\n",
    "        connection.close()\n"
   ]
  },
  {
   "cell_type": "markdown",
   "id": "b6fa72a0",
   "metadata": {},
   "source": [
    "#SQL FILE 9"
   ]
  },
  {
   "cell_type": "code",
   "execution_count": null,
   "id": "c9b1f24a",
   "metadata": {},
   "outputs": [],
   "source": []
  }
 ],
 "metadata": {
  "kernelspec": {
   "display_name": "Python 3 (ipykernel)",
   "language": "python",
   "name": "python3"
  },
  "language_info": {
   "codemirror_mode": {
    "name": "ipython",
    "version": 3
   },
   "file_extension": ".py",
   "mimetype": "text/x-python",
   "name": "python",
   "nbconvert_exporter": "python",
   "pygments_lexer": "ipython3",
   "version": "3.10.9"
  }
 },
 "nbformat": 4,
 "nbformat_minor": 5
}
